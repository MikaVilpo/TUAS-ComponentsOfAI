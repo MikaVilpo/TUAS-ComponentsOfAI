{
 "cells": [
  {
   "cell_type": "code",
   "execution_count": 2,
   "metadata": {},
   "outputs": [],
   "source": [
    "import os\n",
    "import tensorflow as tf\n",
    "import cv2\n",
    "import numpy as np\n",
    "import collections"
   ]
  },
  {
   "cell_type": "code",
   "execution_count": 4,
   "metadata": {},
   "outputs": [
    {
     "name": "stdout",
     "output_type": "stream",
     "text": [
      "Press 'q' to exit the video feed.\n",
      "Resources released, video window closed.\n"
     ]
    }
   ],
   "source": [
    "# Load the saved model\n",
    "model = tf.keras.models.load_model('best_model.keras')\n",
    "\n",
    "# Class labels for predictions\n",
    "class_labels = ['Headtop', 'Helmet', 'Hoodie', 'No headwear']\n",
    "\n",
    "# Open the webcam\n",
    "cap = cv2.VideoCapture(0)  # 0 is the default camera\n",
    "\n",
    "# Define the target size for the images\n",
    "target_size = (224, 224)\n",
    "\n",
    "# Initialize a buffer for smoothing predictions\n",
    "predictions_buffer = collections.deque(maxlen=10)\n",
    "\n",
    "print(\"Press 'q' to exit the video feed.\")\n",
    "\n",
    "try:\n",
    "    while True:\n",
    "        # Capture frame-by-frame\n",
    "        ret, frame = cap.read()\n",
    "        if not ret:\n",
    "            print(\"Failed to capture video frame. Exiting...\")\n",
    "            break\n",
    "\n",
    "        # Preprocess the frame\n",
    "        resized_frame = cv2.resize(frame, target_size)  # Resize to match model input\n",
    "        img_array = np.expand_dims(resized_frame, axis=0) / 255.0  # Normalize and add batch dimension\n",
    "\n",
    "        # Make prediction\n",
    "        predictions = model.predict(img_array, verbose=0)\n",
    "        class_index = np.argmax(predictions[0])\n",
    "        prediction_label = class_labels[class_index]\n",
    "        confidence = predictions[0][class_index] * 100\n",
    "\n",
    "        # Add prediction to the buffer\n",
    "        predictions_buffer.append(class_index)\n",
    "\n",
    "        # Smooth predictions using majority voting\n",
    "        smoothed_prediction = max(set(predictions_buffer), key=predictions_buffer.count)\n",
    "        smoothed_label = class_labels[smoothed_prediction]\n",
    "\n",
    "        # Display the prediction on the frame\n",
    "        cv2.putText(frame, f\"{smoothed_label} ({confidence:.2f}%)\", \n",
    "                    (10, 30), cv2.FONT_HERSHEY_SIMPLEX, 1, (75, 75, 75), 2)\n",
    "\n",
    "        # Show the frame\n",
    "        cv2.imshow('Hat Detection', frame)\n",
    "\n",
    "        # Break the loop if 'q' is pressed\n",
    "        if cv2.waitKey(1) & 0xFF == ord('q'):\n",
    "            break\n",
    "\n",
    "except KeyboardInterrupt:\n",
    "    print(\"\\nProgram interrupted by the user. Exiting...\")\n",
    "\n",
    "finally:\n",
    "    # Release the webcam and close windows\n",
    "    cap.release()\n",
    "    cv2.destroyAllWindows()\n",
    "    print(\"Resources released, video window closed.\")"
   ]
  }
 ],
 "metadata": {
  "kernelspec": {
   "display_name": "ml-env",
   "language": "python",
   "name": "python3"
  },
  "language_info": {
   "codemirror_mode": {
    "name": "ipython",
    "version": 3
   },
   "file_extension": ".py",
   "mimetype": "text/x-python",
   "name": "python",
   "nbconvert_exporter": "python",
   "pygments_lexer": "ipython3",
   "version": "3.11.11"
  }
 },
 "nbformat": 4,
 "nbformat_minor": 2
}
