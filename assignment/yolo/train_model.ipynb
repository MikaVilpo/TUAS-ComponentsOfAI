{
 "cells": [
  {
   "cell_type": "code",
   "execution_count": null,
   "metadata": {},
   "outputs": [],
   "source": [
    "import torch\n",
    "from ultralytics import YOLO"
   ]
  },
  {
   "cell_type": "code",
   "execution_count": null,
   "metadata": {},
   "outputs": [],
   "source": [
    "# Load a pre-trained YOLO model\n",
    "model = YOLO('yolov8n.pt')  # Load the YOLOv8n (nano) model, a lightweight version for efficiency\n",
    "\n",
    "# Check if a GPU is available, otherwise fallback to CPU\n",
    "device = 'cuda' if torch.cuda.is_available() else 'cpu'\n",
    "print(f\"Using device: {device}\")\n",
    "\n",
    "# Train the model with optimized parameters\n",
    "model.train(\n",
    "    data='data.yaml',  # Path to dataset configuration file\n",
    "    epochs=100,        # Number of training iterations to refine the model\n",
    "    imgsz=640,         # Image resolution to be used during training\n",
    "    batch=16,          # Batch size, determines how many images are processed together\n",
    "    conf=0.35,         # Confidence threshold for detecting objects\n",
    "    iou=0.45,          # Intersection over Union (IoU) threshold for Non-Maximum Suppression (NMS)\n",
    "    \n",
    "    # Learning rate settings\n",
    "    lr0=0.0005,        # Initial learning rate\n",
    "    lrf=0.005,         # Final learning rate (controls learning rate decay)\n",
    "    \n",
    "    patience=30,       # Early stopping patience (number of epochs without improvement)\n",
    "    save=True,         # Ensure model checkpoints are saved\n",
    "    pretrained=True,   # Use a pre-trained model to speed up convergence and improve accuracy\n",
    "    optimizer='AdamW', # Use AdamW optimizer (better weight decay handling)\n",
    "    \n",
    "    # Data augmentation parameters (modifications to training data to improve generalization)\n",
    "    augment=True,      # Enable data augmentation to introduce variability in training data\n",
    "\n",
    "    # Augmentation techniques to improve robustness\n",
    "    degrees=15,        # Maximum rotation angle for training images (simulating various angles)\n",
    "    translate=0.15,    # Maximum translation (shifting) percentage\n",
    "    scale=0.5,         # Scaling variation (simulating different object sizes)\n",
    "    shear=8,           # Shearing transformation (simulating perspective distortions)\n",
    "    fliplr=0.5,        # Probability of horizontal flipping for increased variety\n",
    "    mosaic=0.8,        # Mosaic augmentation probability (combining multiple images)\n",
    "    mixup=0.2,         # Mixup augmentation (merging images for better generalization)\n",
    "\n",
    "    # Adjusted color augmentation to balance stability and diversity\n",
    "    hsv_h=0.015,       # Hue shift augmentation (color variations)\n",
    "    hsv_s=0.5,         # Saturation augmentation (color intensity variations)\n",
    "    hsv_v=0.3,         # Brightness variation (light/dark changes)\n",
    "    \n",
    "    # Additional training optimizations\n",
    "    warmup_epochs=3,   # Number of initial epochs with a warmup learning rate\n",
    "    momentum=0.95,     # Momentum for the optimizer (stabilizes training updates)\n",
    "    weight_decay=0.001,# Regularization to reduce overfitting (prevents extreme weight values)\n",
    "    \n",
    "    # Stability enhancements\n",
    "    label_smoothing=0.1, # Helps reduce overconfidence in predictions\n",
    "    overlap_mask=True,   # Helps handle overlapping object instances in detection\n",
    "    cos_lr=True          # Use a cosine learning rate scheduler for smoother convergence\n",
    ")\n",
    "\n",
    "# Save the final trained model\n",
    "model.save('best.pt')  # Store the best model checkpoint for inference or further fine-tuning"
   ]
  }
 ],
 "metadata": {
  "kernelspec": {
   "display_name": "yolo_env",
   "language": "python",
   "name": "python3"
  },
  "language_info": {
   "codemirror_mode": {
    "name": "ipython",
    "version": 3
   },
   "file_extension": ".py",
   "mimetype": "text/x-python",
   "name": "python",
   "nbconvert_exporter": "python",
   "pygments_lexer": "ipython3",
   "version": "3.12.2"
  }
 },
 "nbformat": 4,
 "nbformat_minor": 2
}
