{
 "cells": [
  {
   "cell_type": "code",
   "execution_count": 2,
   "id": "d61b7b98",
   "metadata": {},
   "outputs": [
    {
     "name": "stdout",
     "output_type": "stream",
     "text": [
      "Collecting opencv-python-headless\n",
      "  Downloading opencv_python_headless-4.11.0.86-cp37-abi3-win_amd64.whl.metadata (20 kB)\n",
      "Requirement already satisfied: numpy>=1.21.2 in c:\\users\\mika\\anaconda3\\lib\\site-packages (from opencv-python-headless) (1.26.4)\n",
      "Downloading opencv_python_headless-4.11.0.86-cp37-abi3-win_amd64.whl (39.4 MB)\n",
      "   ---------------------------------------- 0.0/39.4 MB ? eta -:--:--\n",
      "   --- ------------------------------------ 3.1/39.4 MB 16.8 MB/s eta 0:00:03\n",
      "   ------ --------------------------------- 6.8/39.4 MB 18.3 MB/s eta 0:00:02\n",
      "   ----------- ---------------------------- 11.0/39.4 MB 18.1 MB/s eta 0:00:02\n",
      "   --------------- ------------------------ 15.5/39.4 MB 18.7 MB/s eta 0:00:02\n",
      "   -------------------- ------------------- 19.9/39.4 MB 19.1 MB/s eta 0:00:02\n",
      "   ---------------------- ----------------- 22.0/39.4 MB 19.3 MB/s eta 0:00:01\n",
      "   ----------------------- ---------------- 23.3/39.4 MB 15.7 MB/s eta 0:00:02\n",
      "   ------------------------- -------------- 25.2/39.4 MB 15.0 MB/s eta 0:00:01\n",
      "   --------------------------- ------------ 27.3/39.4 MB 14.2 MB/s eta 0:00:01\n",
      "   ----------------------------- ---------- 29.1/39.4 MB 13.7 MB/s eta 0:00:01\n",
      "   -------------------------------- ------- 32.5/39.4 MB 13.9 MB/s eta 0:00:01\n",
      "   ----------------------------------- ---- 35.4/39.4 MB 13.8 MB/s eta 0:00:01\n",
      "   ---------------------------------------  39.3/39.4 MB 14.5 MB/s eta 0:00:01\n",
      "   ---------------------------------------- 39.4/39.4 MB 14.0 MB/s eta 0:00:00\n",
      "Installing collected packages: opencv-python-headless\n",
      "Successfully installed opencv-python-headless-4.11.0.86\n"
     ]
    }
   ],
   "source": [
    "# Install needed packages\n",
    "! pip install opencv-python-headless\n",
    "! pip insstal tensorflow"
   ]
  },
  {
   "cell_type": "code",
   "execution_count": 4,
   "id": "6f3bc04b",
   "metadata": {},
   "outputs": [],
   "source": [
    "import os\n",
    "import tensorflow as tf\n",
    "from tensorflow.keras.applications import MobileNetV2\n",
    "from tensorflow.keras import layers, models\n",
    "from tensorflow.keras.preprocessing.image import ImageDataGenerator\n",
    "import cv2\n",
    "import numpy as np\n",
    "import collections"
   ]
  },
  {
   "cell_type": "markdown",
   "id": "3b8f4c91",
   "metadata": {},
   "source": [
    "### Step 1: Load Pretrained Model"
   ]
  },
  {
   "cell_type": "code",
   "execution_count": 5,
   "id": "1c885bea",
   "metadata": {},
   "outputs": [
    {
     "name": "stdout",
     "output_type": "stream",
     "text": [
      "Downloading data from https://storage.googleapis.com/tensorflow/keras-applications/mobilenet_v2/mobilenet_v2_weights_tf_dim_ordering_tf_kernels_1.0_224_no_top.h5\n",
      "\u001b[1m9406464/9406464\u001b[0m \u001b[32m━━━━━━━━━━━━━━━━━━━━\u001b[0m\u001b[37m\u001b[0m \u001b[1m1s\u001b[0m 0us/step\n"
     ]
    }
   ],
   "source": [
    "# Load Pretrained Model\n",
    "base_model = MobileNetV2(input_shape=(224, 224, 3), include_top=False, weights='imagenet')\n",
    "base_model.trainable = False  # Freeze the base model initially\n",
    "\n",
    "# Add task-specific layers\n",
    "model = models.Sequential([\n",
    "    base_model,\n",
    "    layers.GlobalAveragePooling2D(),\n",
    "    layers.Dense(128, activation='relu'),\n",
    "    layers.Dropout(0.5),\n",
    "    layers.Dense(4, activation='softmax')  # Replace 4 with the number of your classes\n",
    "])\n",
    "\n",
    "# Compile the model\n",
    "model.compile(optimizer='adam', loss='categorical_crossentropy', metrics=['accuracy'])"
   ]
  },
  {
   "cell_type": "markdown",
   "id": "30a5256c",
   "metadata": {},
   "source": [
    "### Step 2: Prepare Your Dataset"
   ]
  },
  {
   "cell_type": "code",
   "execution_count": 6,
   "id": "71672f0a",
   "metadata": {},
   "outputs": [
    {
     "name": "stdout",
     "output_type": "stream",
     "text": [
      "Found 3919 images belonging to 4 classes.\n",
      "Found 395 images belonging to 4 classes.\n"
     ]
    }
   ],
   "source": [
    "# Set the base directory\n",
    "base_dir = os.getcwd()  # Get the current working directory\n",
    "\n",
    "# Construct the path to the dataset\n",
    "dataset_dir = os.path.join(base_dir, 'dataset')\n",
    "\n",
    "# Construct the path to the training directory\n",
    "train_dir = os.path.join(dataset_dir, 'train')\n",
    "\n",
    "# Construct the path to the validation directory\n",
    "val_dir = os.path.join(dataset_dir, 'val')\n",
    "\n",
    "# Data augmentation for training\n",
    "data_augmentation = ImageDataGenerator(\n",
    "    rescale=1.0 / 255.0,\n",
    "    rotation_range=20,\n",
    "    width_shift_range=0.2,\n",
    "    height_shift_range=0.2,\n",
    "    zoom_range=0.2,\n",
    "    horizontal_flip=True,\n",
    "    fill_mode=\"nearest\"\n",
    ")\n",
    "\n",
    "# No augmentation for validation, just rescaling\n",
    "val_datagen = ImageDataGenerator(rescale=1.0 / 255.0)\n",
    "\n",
    "# Prepare generators\n",
    "train_generator = data_augmentation.flow_from_directory(\n",
    "    train_dir,\n",
    "    target_size=(224, 224),\n",
    "    batch_size=32,\n",
    "    class_mode=\"categorical\"\n",
    ")\n",
    "\n",
    "val_generator = val_datagen.flow_from_directory(\n",
    "    val_dir,\n",
    "    target_size=(224, 224),\n",
    "    batch_size=32,\n",
    "    class_mode=\"categorical\"\n",
    ")"
   ]
  },
  {
   "cell_type": "markdown",
   "id": "1853c5cd",
   "metadata": {},
   "source": [
    "### Step 3: Train the Model"
   ]
  },
  {
   "cell_type": "code",
   "execution_count": 7,
   "id": "473b31c1",
   "metadata": {},
   "outputs": [
    {
     "name": "stderr",
     "output_type": "stream",
     "text": [
      "c:\\Users\\mika\\anaconda3\\Lib\\site-packages\\keras\\src\\trainers\\data_adapters\\py_dataset_adapter.py:121: UserWarning: Your `PyDataset` class should call `super().__init__(**kwargs)` in its constructor. `**kwargs` can include `workers`, `use_multiprocessing`, `max_queue_size`. Do not pass these arguments to `fit()`, as they will be ignored.\n",
      "  self._warn_if_super_not_called()\n"
     ]
    },
    {
     "name": "stdout",
     "output_type": "stream",
     "text": [
      "Epoch 1/15\n",
      "\u001b[1m123/123\u001b[0m \u001b[32m━━━━━━━━━━━━━━━━━━━━\u001b[0m\u001b[37m\u001b[0m \u001b[1m179s\u001b[0m 1s/step - accuracy: 0.6043 - loss: 1.0095 - val_accuracy: 0.8278 - val_loss: 0.4934\n",
      "Epoch 2/15\n",
      "\u001b[1m123/123\u001b[0m \u001b[32m━━━━━━━━━━━━━━━━━━━━\u001b[0m\u001b[37m\u001b[0m \u001b[1m74s\u001b[0m 598ms/step - accuracy: 0.7973 - loss: 0.5502 - val_accuracy: 0.8405 - val_loss: 0.4606\n",
      "Epoch 3/15\n",
      "\u001b[1m123/123\u001b[0m \u001b[32m━━━━━━━━━━━━━━━━━━━━\u001b[0m\u001b[37m\u001b[0m \u001b[1m72s\u001b[0m 585ms/step - accuracy: 0.8133 - loss: 0.4873 - val_accuracy: 0.8608 - val_loss: 0.4491\n",
      "Epoch 4/15\n",
      "\u001b[1m123/123\u001b[0m \u001b[32m━━━━━━━━━━━━━━━━━━━━\u001b[0m\u001b[37m\u001b[0m \u001b[1m74s\u001b[0m 597ms/step - accuracy: 0.8296 - loss: 0.4604 - val_accuracy: 0.8633 - val_loss: 0.4370\n",
      "Epoch 5/15\n",
      "\u001b[1m123/123\u001b[0m \u001b[32m━━━━━━━━━━━━━━━━━━━━\u001b[0m\u001b[37m\u001b[0m \u001b[1m75s\u001b[0m 607ms/step - accuracy: 0.8255 - loss: 0.4652 - val_accuracy: 0.8608 - val_loss: 0.4483\n",
      "Epoch 6/15\n",
      "\u001b[1m123/123\u001b[0m \u001b[32m━━━━━━━━━━━━━━━━━━━━\u001b[0m\u001b[37m\u001b[0m \u001b[1m71s\u001b[0m 580ms/step - accuracy: 0.8433 - loss: 0.4266 - val_accuracy: 0.8709 - val_loss: 0.4144\n",
      "Epoch 7/15\n",
      "\u001b[1m123/123\u001b[0m \u001b[32m━━━━━━━━━━━━━━━━━━━━\u001b[0m\u001b[37m\u001b[0m \u001b[1m70s\u001b[0m 570ms/step - accuracy: 0.8524 - loss: 0.4000 - val_accuracy: 0.8785 - val_loss: 0.4165\n",
      "Epoch 8/15\n",
      "\u001b[1m123/123\u001b[0m \u001b[32m━━━━━━━━━━━━━━━━━━━━\u001b[0m\u001b[37m\u001b[0m \u001b[1m90s\u001b[0m 729ms/step - accuracy: 0.8501 - loss: 0.4101 - val_accuracy: 0.8684 - val_loss: 0.4254\n",
      "Epoch 9/15\n",
      "\u001b[1m123/123\u001b[0m \u001b[32m━━━━━━━━━━━━━━━━━━━━\u001b[0m\u001b[37m\u001b[0m \u001b[1m95s\u001b[0m 767ms/step - accuracy: 0.8380 - loss: 0.4139 - val_accuracy: 0.8810 - val_loss: 0.4144\n",
      "Epoch 10/15\n",
      "\u001b[1m123/123\u001b[0m \u001b[32m━━━━━━━━━━━━━━━━━━━━\u001b[0m\u001b[37m\u001b[0m \u001b[1m94s\u001b[0m 763ms/step - accuracy: 0.8412 - loss: 0.4056 - val_accuracy: 0.8709 - val_loss: 0.4318\n",
      "Epoch 11/15\n",
      "\u001b[1m123/123\u001b[0m \u001b[32m━━━━━━━━━━━━━━━━━━━━\u001b[0m\u001b[37m\u001b[0m \u001b[1m92s\u001b[0m 746ms/step - accuracy: 0.8675 - loss: 0.3626 - val_accuracy: 0.8633 - val_loss: 0.4108\n",
      "Epoch 12/15\n",
      "\u001b[1m123/123\u001b[0m \u001b[32m━━━━━━━━━━━━━━━━━━━━\u001b[0m\u001b[37m\u001b[0m \u001b[1m89s\u001b[0m 725ms/step - accuracy: 0.8668 - loss: 0.3691 - val_accuracy: 0.8633 - val_loss: 0.4493\n",
      "Epoch 13/15\n",
      "\u001b[1m123/123\u001b[0m \u001b[32m━━━━━━━━━━━━━━━━━━━━\u001b[0m\u001b[37m\u001b[0m \u001b[1m95s\u001b[0m 771ms/step - accuracy: 0.8710 - loss: 0.3765 - val_accuracy: 0.8835 - val_loss: 0.4237\n",
      "Epoch 14/15\n",
      "\u001b[1m123/123\u001b[0m \u001b[32m━━━━━━━━━━━━━━━━━━━━\u001b[0m\u001b[37m\u001b[0m \u001b[1m98s\u001b[0m 799ms/step - accuracy: 0.8667 - loss: 0.3760 - val_accuracy: 0.8582 - val_loss: 0.4380\n",
      "Epoch 15/15\n",
      "\u001b[1m123/123\u001b[0m \u001b[32m━━━━━━━━━━━━━━━━━━━━\u001b[0m\u001b[37m\u001b[0m \u001b[1m80s\u001b[0m 653ms/step - accuracy: 0.8680 - loss: 0.3523 - val_accuracy: 0.8734 - val_loss: 0.4156\n",
      "Epoch 1/15\n",
      "\u001b[1m123/123\u001b[0m \u001b[32m━━━━━━━━━━━━━━━━━━━━\u001b[0m\u001b[37m\u001b[0m \u001b[1m195s\u001b[0m 1s/step - accuracy: 0.7703 - loss: 0.6180 - val_accuracy: 0.7848 - val_loss: 1.2387\n",
      "Epoch 2/15\n",
      "\u001b[1m123/123\u001b[0m \u001b[32m━━━━━━━━━━━━━━━━━━━━\u001b[0m\u001b[37m\u001b[0m \u001b[1m172s\u001b[0m 1s/step - accuracy: 0.8816 - loss: 0.3220 - val_accuracy: 0.8759 - val_loss: 0.7335\n",
      "Epoch 3/15\n",
      "\u001b[1m123/123\u001b[0m \u001b[32m━━━━━━━━━━━━━━━━━━━━\u001b[0m\u001b[37m\u001b[0m \u001b[1m168s\u001b[0m 1s/step - accuracy: 0.9101 - loss: 0.2596 - val_accuracy: 0.8228 - val_loss: 0.9561\n",
      "Epoch 4/15\n",
      "\u001b[1m123/123\u001b[0m \u001b[32m━━━━━━━━━━━━━━━━━━━━\u001b[0m\u001b[37m\u001b[0m \u001b[1m169s\u001b[0m 1s/step - accuracy: 0.9380 - loss: 0.1823 - val_accuracy: 0.8684 - val_loss: 0.7633\n",
      "Epoch 5/15\n",
      "\u001b[1m123/123\u001b[0m \u001b[32m━━━━━━━━━━━━━━━━━━━━\u001b[0m\u001b[37m\u001b[0m \u001b[1m167s\u001b[0m 1s/step - accuracy: 0.9358 - loss: 0.1963 - val_accuracy: 0.8101 - val_loss: 1.0953\n",
      "Epoch 6/15\n",
      "\u001b[1m123/123\u001b[0m \u001b[32m━━━━━━━━━━━━━━━━━━━━\u001b[0m\u001b[37m\u001b[0m \u001b[1m169s\u001b[0m 1s/step - accuracy: 0.9416 - loss: 0.1644 - val_accuracy: 0.8835 - val_loss: 0.6179\n",
      "Epoch 7/15\n",
      "\u001b[1m123/123\u001b[0m \u001b[32m━━━━━━━━━━━━━━━━━━━━\u001b[0m\u001b[37m\u001b[0m \u001b[1m168s\u001b[0m 1s/step - accuracy: 0.9531 - loss: 0.1386 - val_accuracy: 0.7570 - val_loss: 1.6060\n",
      "Epoch 8/15\n",
      "\u001b[1m123/123\u001b[0m \u001b[32m━━━━━━━━━━━━━━━━━━━━\u001b[0m\u001b[37m\u001b[0m \u001b[1m175s\u001b[0m 1s/step - accuracy: 0.9495 - loss: 0.1457 - val_accuracy: 0.8405 - val_loss: 0.8028\n",
      "Epoch 9/15\n",
      "\u001b[1m123/123\u001b[0m \u001b[32m━━━━━━━━━━━━━━━━━━━━\u001b[0m\u001b[37m\u001b[0m \u001b[1m170s\u001b[0m 1s/step - accuracy: 0.9460 - loss: 0.1417 - val_accuracy: 0.8785 - val_loss: 0.7538\n",
      "Epoch 10/15\n",
      "\u001b[1m123/123\u001b[0m \u001b[32m━━━━━━━━━━━━━━━━━━━━\u001b[0m\u001b[37m\u001b[0m \u001b[1m179s\u001b[0m 1s/step - accuracy: 0.9640 - loss: 0.1041 - val_accuracy: 0.9241 - val_loss: 0.4234\n",
      "Epoch 11/15\n",
      "\u001b[1m123/123\u001b[0m \u001b[32m━━━━━━━━━━━━━━━━━━━━\u001b[0m\u001b[37m\u001b[0m \u001b[1m163s\u001b[0m 1s/step - accuracy: 0.9595 - loss: 0.1140 - val_accuracy: 0.9038 - val_loss: 0.4695\n",
      "Epoch 12/15\n",
      "\u001b[1m123/123\u001b[0m \u001b[32m━━━━━━━━━━━━━━━━━━━━\u001b[0m\u001b[37m\u001b[0m \u001b[1m176s\u001b[0m 1s/step - accuracy: 0.9615 - loss: 0.1205 - val_accuracy: 0.9089 - val_loss: 0.5732\n",
      "Epoch 13/15\n",
      "\u001b[1m123/123\u001b[0m \u001b[32m━━━━━━━━━━━━━━━━━━━━\u001b[0m\u001b[37m\u001b[0m \u001b[1m169s\u001b[0m 1s/step - accuracy: 0.9688 - loss: 0.0894 - val_accuracy: 0.9063 - val_loss: 0.4372\n",
      "Epoch 14/15\n",
      "\u001b[1m123/123\u001b[0m \u001b[32m━━━━━━━━━━━━━━━━━━━━\u001b[0m\u001b[37m\u001b[0m \u001b[1m165s\u001b[0m 1s/step - accuracy: 0.9720 - loss: 0.0922 - val_accuracy: 0.8962 - val_loss: 0.5009\n",
      "Epoch 15/15\n",
      "\u001b[1m123/123\u001b[0m \u001b[32m━━━━━━━━━━━━━━━━━━━━\u001b[0m\u001b[37m\u001b[0m \u001b[1m166s\u001b[0m 1s/step - accuracy: 0.9749 - loss: 0.0848 - val_accuracy: 0.9241 - val_loss: 0.3896\n"
     ]
    }
   ],
   "source": [
    "# Train the model with early stopping\n",
    "early_stopping = tf.keras.callbacks.EarlyStopping(monitor='val_loss', patience=5, restore_best_weights=True)\n",
    "\n",
    "# Train the new layers initially using train_generator and val_generator\n",
    "history = model.fit(\n",
    "    train_generator,\n",
    "    validation_data=val_generator,\n",
    "    epochs=15,\n",
    "    callbacks=[early_stopping],\n",
    "    verbose=1\n",
    ")\n",
    "\n",
    "# Fine-tune the entire model\n",
    "base_model.trainable = True  # Unfreeze the base layers\n",
    "\n",
    "# Recompile with a lower learning rate\n",
    "model.compile(\n",
    "    optimizer=tf.keras.optimizers.Adam(learning_rate=0.0001),\n",
    "    loss='categorical_crossentropy',\n",
    "    metrics=['accuracy']\n",
    ")\n",
    "\n",
    "# Train the entire model\n",
    "history_fine = model.fit(\n",
    "    train_generator,\n",
    "    validation_data=val_generator,\n",
    "    epochs=15,\n",
    "    callbacks=[early_stopping],\n",
    "    verbose=1\n",
    ")\n",
    "\n",
    "# Save the trained model\n",
    "model.save('best_model.keras')\n"
   ]
  },
  {
   "cell_type": "code",
   "execution_count": 9,
   "id": "8aff9fd0",
   "metadata": {},
   "outputs": [
    {
     "name": "stdout",
     "output_type": "stream",
     "text": [
      "Found 379 images belonging to 4 classes.\n",
      "\u001b[1m12/12\u001b[0m \u001b[32m━━━━━━━━━━━━━━━━━━━━\u001b[0m\u001b[37m\u001b[0m \u001b[1m12s\u001b[0m 666ms/step - accuracy: 0.9101 - loss: 0.4970\n",
      "Test Loss: 0.408337265253067\n",
      "Test Accuracy: 0.9261213541030884\n"
     ]
    }
   ],
   "source": [
    "# Construct the path to the test directory\n",
    "test_dir = os.path.join(dataset_dir, 'test')\n",
    "\n",
    "# Data augmentation for test set\n",
    "test_datagen = ImageDataGenerator(rescale=1.0 / 255.0)\n",
    "\n",
    "# Prepare test generator\n",
    "test_generator = test_datagen.flow_from_directory(\n",
    "    test_dir,\n",
    "    target_size=(224, 224),\n",
    "    batch_size=32,\n",
    "    class_mode=\"categorical\"\n",
    ")\n",
    "\n",
    "# Evaluate the model on the test set\n",
    "test_loss, test_accuracy = model.evaluate(test_generator, verbose=1)\n",
    "\n",
    "print(f\"Test Loss: {test_loss}\")\n",
    "print(f\"Test Accuracy: {test_accuracy}\")"
   ]
  },
  {
   "cell_type": "markdown",
   "id": "b005a4b7",
   "metadata": {},
   "source": [
    "### Step 4: Real-Time Webcam Prediction"
   ]
  },
  {
   "cell_type": "code",
   "execution_count": 8,
   "id": "c8cb4830",
   "metadata": {},
   "outputs": [
    {
     "name": "stdout",
     "output_type": "stream",
     "text": [
      "Press 'q' to exit the video feed.\n"
     ]
    },
    {
     "ename": "error",
     "evalue": "OpenCV(4.11.0) D:\\a\\opencv-python\\opencv-python\\opencv\\modules\\highgui\\src\\window.cpp:1295: error: (-2:Unspecified error) The function is not implemented. Rebuild the library with Windows, GTK+ 2.x or Cocoa support. If you are on Ubuntu or Debian, install libgtk2.0-dev and pkg-config, then re-run cmake or configure script in function 'cvDestroyAllWindows'\n",
     "output_type": "error",
     "traceback": [
      "\u001b[1;31m---------------------------------------------------------------------------\u001b[0m",
      "\u001b[1;31merror\u001b[0m                                     Traceback (most recent call last)",
      "Cell \u001b[1;32mIn[8], line 48\u001b[0m\n\u001b[0;32m     47\u001b[0m \u001b[38;5;66;03m# Show the frame\u001b[39;00m\n\u001b[1;32m---> 48\u001b[0m cv2\u001b[38;5;241m.\u001b[39mimshow(\u001b[38;5;124m'\u001b[39m\u001b[38;5;124mHat Detection\u001b[39m\u001b[38;5;124m'\u001b[39m, frame)\n\u001b[0;32m     50\u001b[0m \u001b[38;5;66;03m# Break the loop if 'q' is pressed\u001b[39;00m\n",
      "\u001b[1;31merror\u001b[0m: OpenCV(4.11.0) D:\\a\\opencv-python\\opencv-python\\opencv\\modules\\highgui\\src\\window.cpp:1301: error: (-2:Unspecified error) The function is not implemented. Rebuild the library with Windows, GTK+ 2.x or Cocoa support. If you are on Ubuntu or Debian, install libgtk2.0-dev and pkg-config, then re-run cmake or configure script in function 'cvShowImage'\n",
      "\nDuring handling of the above exception, another exception occurred:\n",
      "\u001b[1;31merror\u001b[0m                                     Traceback (most recent call last)",
      "Cell \u001b[1;32mIn[8], line 60\u001b[0m\n\u001b[0;32m     57\u001b[0m \u001b[38;5;28;01mfinally\u001b[39;00m:\n\u001b[0;32m     58\u001b[0m     \u001b[38;5;66;03m# Release the webcam and close windows\u001b[39;00m\n\u001b[0;32m     59\u001b[0m     cap\u001b[38;5;241m.\u001b[39mrelease()\n\u001b[1;32m---> 60\u001b[0m     cv2\u001b[38;5;241m.\u001b[39mdestroyAllWindows()\n\u001b[0;32m     61\u001b[0m     \u001b[38;5;28mprint\u001b[39m(\u001b[38;5;124m\"\u001b[39m\u001b[38;5;124mResources released, video window closed.\u001b[39m\u001b[38;5;124m\"\u001b[39m)\n",
      "\u001b[1;31merror\u001b[0m: OpenCV(4.11.0) D:\\a\\opencv-python\\opencv-python\\opencv\\modules\\highgui\\src\\window.cpp:1295: error: (-2:Unspecified error) The function is not implemented. Rebuild the library with Windows, GTK+ 2.x or Cocoa support. If you are on Ubuntu or Debian, install libgtk2.0-dev and pkg-config, then re-run cmake or configure script in function 'cvDestroyAllWindows'\n"
     ]
    }
   ],
   "source": [
    "# Load the saved model\n",
    "model = tf.keras.models.load_model('best_model.keras')\n",
    "\n",
    "# Class labels for predictions\n",
    "class_labels = ['Headtop', 'Helmet', 'Hoodie', 'No headwear']\n",
    "\n",
    "# Open the webcam\n",
    "cap = cv2.VideoCapture(0)  # 0 is the default camera\n",
    "\n",
    "# Define the target size for the images\n",
    "target_size = (224, 224)\n",
    "\n",
    "# Initialize a buffer for smoothing predictions\n",
    "predictions_buffer = collections.deque(maxlen=10)\n",
    "\n",
    "print(\"Press 'q' to exit the video feed.\")\n",
    "\n",
    "try:\n",
    "    while True:\n",
    "        # Capture frame-by-frame\n",
    "        ret, frame = cap.read()\n",
    "        if not ret:\n",
    "            print(\"Failed to capture video frame. Exiting...\")\n",
    "            break\n",
    "\n",
    "        # Preprocess the frame\n",
    "        resized_frame = cv2.resize(frame, target_size)  # Resize to match model input\n",
    "        img_array = np.expand_dims(resized_frame, axis=0) / 255.0  # Normalize and add batch dimension\n",
    "\n",
    "        # Make prediction\n",
    "        predictions = model.predict(img_array, verbose=0)\n",
    "        class_index = np.argmax(predictions[0])\n",
    "        prediction_label = class_labels[class_index]\n",
    "        confidence = predictions[0][class_index] * 100\n",
    "\n",
    "        # Add prediction to the buffer\n",
    "        predictions_buffer.append(class_index)\n",
    "\n",
    "        # Smooth predictions using majority voting\n",
    "        smoothed_prediction = max(set(predictions_buffer), key=predictions_buffer.count)\n",
    "        smoothed_label = class_labels[smoothed_prediction]\n",
    "\n",
    "        # Display the prediction on the frame\n",
    "        cv2.putText(frame, f\"{smoothed_label} ({confidence:.2f}%)\", \n",
    "                    (10, 30), cv2.FONT_HERSHEY_SIMPLEX, 1, (75, 75, 75), 2)\n",
    "\n",
    "        # Show the frame\n",
    "        cv2.imshow('Hat Detection', frame)\n",
    "\n",
    "        # Break the loop if 'q' is pressed\n",
    "        if cv2.waitKey(1) & 0xFF == ord('q'):\n",
    "            break\n",
    "\n",
    "except KeyboardInterrupt:\n",
    "    print(\"\\nProgram interrupted by the user. Exiting...\")\n",
    "\n",
    "finally:\n",
    "    # Release the webcam and close windows\n",
    "    cap.release()\n",
    "    cv2.destroyAllWindows()\n",
    "    print(\"Resources released, video window closed.\")"
   ]
  }
 ],
 "metadata": {
  "kernelspec": {
   "display_name": "base",
   "language": "python",
   "name": "python3"
  },
  "language_info": {
   "codemirror_mode": {
    "name": "ipython",
    "version": 3
   },
   "file_extension": ".py",
   "mimetype": "text/x-python",
   "name": "python",
   "nbconvert_exporter": "python",
   "pygments_lexer": "ipython3",
   "version": "3.12.4"
  }
 },
 "nbformat": 4,
 "nbformat_minor": 5
}
