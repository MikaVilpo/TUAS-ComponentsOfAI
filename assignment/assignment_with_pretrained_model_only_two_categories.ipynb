{
 "cells": [
  {
   "cell_type": "code",
   "execution_count": 4,
   "id": "6f3bc04b",
   "metadata": {},
   "outputs": [],
   "source": [
    "import os\n",
    "import tensorflow as tf\n",
    "from tensorflow.keras.applications import MobileNetV2\n",
    "from tensorflow.keras import layers, models\n",
    "from tensorflow.keras.preprocessing.image import ImageDataGenerator\n",
    "import cv2\n",
    "import numpy as np\n",
    "import collections"
   ]
  },
  {
   "cell_type": "markdown",
   "id": "3b8f4c91",
   "metadata": {},
   "source": [
    "### Step 1: Load Pretrained Model"
   ]
  },
  {
   "cell_type": "code",
   "execution_count": 5,
   "id": "1c885bea",
   "metadata": {},
   "outputs": [],
   "source": [
    "# Load Pretrained Model\n",
    "base_model = MobileNetV2(input_shape=(224, 224, 3), include_top=False, weights='imagenet')\n",
    "base_model.trainable = False  # Freeze the base model initially\n",
    "\n",
    "# Add task-specific layers\n",
    "model = models.Sequential([\n",
    "    base_model,\n",
    "    layers.GlobalAveragePooling2D(),\n",
    "    layers.Dense(128, activation='relu'),\n",
    "    layers.Dropout(0.5),\n",
    "    layers.Dense(2, activation='softmax')  # Replace 4 with the number of your classes\n",
    "])\n",
    "\n",
    "# Compile the model\n",
    "model.compile(optimizer='adam', loss='binary_crossentropy', metrics=['accuracy'])"
   ]
  },
  {
   "cell_type": "markdown",
   "id": "30a5256c",
   "metadata": {},
   "source": [
    "### Step 2: Prepare Your Dataset"
   ]
  },
  {
   "cell_type": "code",
   "execution_count": 6,
   "id": "71672f0a",
   "metadata": {},
   "outputs": [
    {
     "name": "stdout",
     "output_type": "stream",
     "text": [
      "Found 1955 images belonging to 2 classes.\n",
      "Found 197 images belonging to 2 classes.\n"
     ]
    }
   ],
   "source": [
    "# Set the base directory\n",
    "base_dir = os.getcwd()  # Get the current working directory\n",
    "\n",
    "# Construct the path to the dataset\n",
    "dataset_dir = os.path.join(base_dir, 'dataset2')\n",
    "\n",
    "# Construct the path to the training directory\n",
    "train_dir = os.path.join(dataset_dir, 'train')\n",
    "\n",
    "# Construct the path to the validation directory\n",
    "val_dir = os.path.join(dataset_dir, 'val')\n",
    "\n",
    "# Data augmentation for training\n",
    "data_augmentation = ImageDataGenerator(\n",
    "    rescale=1.0 / 255.0,\n",
    "    rotation_range=20,\n",
    "    width_shift_range=0.2,\n",
    "    height_shift_range=0.2,\n",
    "    zoom_range=0.2,\n",
    "    horizontal_flip=True,\n",
    "    fill_mode=\"nearest\"\n",
    ")\n",
    "\n",
    "# No augmentation for validation, just rescaling\n",
    "val_datagen = ImageDataGenerator(rescale=1.0 / 255.0)\n",
    "\n",
    "# Prepare generators\n",
    "train_generator = data_augmentation.flow_from_directory(\n",
    "    train_dir,\n",
    "    target_size=(224, 224),\n",
    "    batch_size=32,\n",
    "    class_mode=\"categorical\"\n",
    ")\n",
    "\n",
    "val_generator = val_datagen.flow_from_directory(\n",
    "    val_dir,\n",
    "    target_size=(224, 224),\n",
    "    batch_size=32,\n",
    "    class_mode=\"categorical\"\n",
    ")"
   ]
  },
  {
   "cell_type": "markdown",
   "id": "1853c5cd",
   "metadata": {},
   "source": [
    "### Step 3: Train the Model"
   ]
  },
  {
   "cell_type": "code",
   "execution_count": 7,
   "id": "473b31c1",
   "metadata": {},
   "outputs": [
    {
     "name": "stdout",
     "output_type": "stream",
     "text": [
      "Epoch 1/15\n"
     ]
    },
    {
     "name": "stderr",
     "output_type": "stream",
     "text": [
      "2025-02-02 19:48:12.836076: I tensorflow/core/common_runtime/executor.cc:1197] [/device:CPU:0] (DEBUG INFO) Executor start aborting (this does not indicate an error and you can ignore this message): INVALID_ARGUMENT: You must feed a value for placeholder tensor 'Placeholder/_0' with dtype int32\n",
      "\t [[{{node Placeholder/_0}}]]\n"
     ]
    },
    {
     "name": "stdout",
     "output_type": "stream",
     "text": [
      "62/62 [==============================] - ETA: 0s - loss: 0.3737 - accuracy: 0.8465"
     ]
    },
    {
     "name": "stderr",
     "output_type": "stream",
     "text": [
      "2025-02-02 19:49:08.382108: I tensorflow/core/common_runtime/executor.cc:1197] [/device:CPU:0] (DEBUG INFO) Executor start aborting (this does not indicate an error and you can ignore this message): INVALID_ARGUMENT: You must feed a value for placeholder tensor 'Placeholder/_0' with dtype int32\n",
      "\t [[{{node Placeholder/_0}}]]\n"
     ]
    },
    {
     "name": "stdout",
     "output_type": "stream",
     "text": [
      "62/62 [==============================] - 61s 948ms/step - loss: 0.3737 - accuracy: 0.8465 - val_loss: 0.2789 - val_accuracy: 0.8985\n",
      "Epoch 2/15\n",
      "62/62 [==============================] - 62s 999ms/step - loss: 0.2814 - accuracy: 0.8926 - val_loss: 0.2659 - val_accuracy: 0.9086\n",
      "Epoch 3/15\n",
      "62/62 [==============================] - 69s 1s/step - loss: 0.2358 - accuracy: 0.9090 - val_loss: 0.2745 - val_accuracy: 0.8934\n",
      "Epoch 4/15\n",
      "62/62 [==============================] - 71s 1s/step - loss: 0.2147 - accuracy: 0.9212 - val_loss: 0.2827 - val_accuracy: 0.8985\n",
      "Epoch 5/15\n",
      "62/62 [==============================] - 71s 1s/step - loss: 0.1963 - accuracy: 0.9212 - val_loss: 0.2696 - val_accuracy: 0.9086\n",
      "Epoch 6/15\n",
      "62/62 [==============================] - 76s 1s/step - loss: 0.2007 - accuracy: 0.9233 - val_loss: 0.2626 - val_accuracy: 0.9086\n",
      "Epoch 7/15\n",
      "62/62 [==============================] - 73s 1s/step - loss: 0.2060 - accuracy: 0.9217 - val_loss: 0.2548 - val_accuracy: 0.9137\n",
      "Epoch 8/15\n",
      "62/62 [==============================] - 72s 1s/step - loss: 0.2007 - accuracy: 0.9171 - val_loss: 0.2538 - val_accuracy: 0.9086\n",
      "Epoch 9/15\n",
      "62/62 [==============================] - 71s 1s/step - loss: 0.1841 - accuracy: 0.9309 - val_loss: 0.2649 - val_accuracy: 0.9086\n",
      "Epoch 10/15\n",
      "62/62 [==============================] - 75s 1s/step - loss: 0.1865 - accuracy: 0.9284 - val_loss: 0.2678 - val_accuracy: 0.9036\n",
      "Epoch 11/15\n",
      "62/62 [==============================] - 71s 1s/step - loss: 0.1734 - accuracy: 0.9289 - val_loss: 0.2740 - val_accuracy: 0.9137\n",
      "Epoch 12/15\n",
      "62/62 [==============================] - 72s 1s/step - loss: 0.1624 - accuracy: 0.9376 - val_loss: 0.2578 - val_accuracy: 0.9086\n",
      "Epoch 13/15\n",
      "62/62 [==============================] - 69s 1s/step - loss: 0.1754 - accuracy: 0.9315 - val_loss: 0.2775 - val_accuracy: 0.9188\n",
      "Epoch 1/15\n"
     ]
    },
    {
     "name": "stderr",
     "output_type": "stream",
     "text": [
      "2025-02-02 20:03:47.607547: I tensorflow/core/common_runtime/executor.cc:1197] [/device:CPU:0] (DEBUG INFO) Executor start aborting (this does not indicate an error and you can ignore this message): INVALID_ARGUMENT: You must feed a value for placeholder tensor 'Placeholder/_0' with dtype int32\n",
      "\t [[{{node Placeholder/_0}}]]\n"
     ]
    },
    {
     "name": "stdout",
     "output_type": "stream",
     "text": [
      "62/62 [==============================] - ETA: 0s - loss: 0.2774 - accuracy: 0.8905"
     ]
    },
    {
     "name": "stderr",
     "output_type": "stream",
     "text": [
      "2025-02-02 20:08:55.113501: I tensorflow/core/common_runtime/executor.cc:1197] [/device:CPU:0] (DEBUG INFO) Executor start aborting (this does not indicate an error and you can ignore this message): INVALID_ARGUMENT: You must feed a value for placeholder tensor 'Placeholder/_0' with dtype int32\n",
      "\t [[{{node Placeholder/_0}}]]\n"
     ]
    },
    {
     "name": "stdout",
     "output_type": "stream",
     "text": [
      "62/62 [==============================] - 314s 5s/step - loss: 0.2774 - accuracy: 0.8905 - val_loss: 0.5874 - val_accuracy: 0.8832\n",
      "Epoch 2/15\n",
      "62/62 [==============================] - 301s 5s/step - loss: 0.1519 - accuracy: 0.9458 - val_loss: 0.6596 - val_accuracy: 0.8782\n",
      "Epoch 3/15\n",
      "62/62 [==============================] - 303s 5s/step - loss: 0.1087 - accuracy: 0.9586 - val_loss: 1.7519 - val_accuracy: 0.7411\n",
      "Epoch 4/15\n",
      "62/62 [==============================] - 236s 4s/step - loss: 0.0929 - accuracy: 0.9678 - val_loss: 0.9967 - val_accuracy: 0.8528\n",
      "Epoch 5/15\n",
      "62/62 [==============================] - 170s 3s/step - loss: 0.0784 - accuracy: 0.9708 - val_loss: 0.5123 - val_accuracy: 0.9289\n",
      "Epoch 6/15\n",
      "62/62 [==============================] - 234s 4s/step - loss: 0.0586 - accuracy: 0.9790 - val_loss: 0.7411 - val_accuracy: 0.9086\n",
      "Epoch 7/15\n",
      "62/62 [==============================] - 193s 3s/step - loss: 0.0455 - accuracy: 0.9836 - val_loss: 0.6560 - val_accuracy: 0.9239\n",
      "Epoch 8/15\n",
      "62/62 [==============================] - 173s 3s/step - loss: 0.0519 - accuracy: 0.9826 - val_loss: 0.5024 - val_accuracy: 0.9391\n",
      "Epoch 9/15\n",
      "62/62 [==============================] - 169s 3s/step - loss: 0.0406 - accuracy: 0.9867 - val_loss: 0.6112 - val_accuracy: 0.9289\n",
      "Epoch 10/15\n",
      "62/62 [==============================] - 193s 3s/step - loss: 0.0437 - accuracy: 0.9836 - val_loss: 0.4682 - val_accuracy: 0.9442\n",
      "Epoch 11/15\n",
      "62/62 [==============================] - 189s 3s/step - loss: 0.0564 - accuracy: 0.9826 - val_loss: 0.5199 - val_accuracy: 0.9492\n",
      "Epoch 12/15\n",
      "62/62 [==============================] - 189s 3s/step - loss: 0.0420 - accuracy: 0.9841 - val_loss: 0.9769 - val_accuracy: 0.8629\n",
      "Epoch 13/15\n",
      "62/62 [==============================] - 229s 4s/step - loss: 0.0362 - accuracy: 0.9887 - val_loss: 1.3145 - val_accuracy: 0.8579\n",
      "Epoch 14/15\n",
      "62/62 [==============================] - 174s 3s/step - loss: 0.0701 - accuracy: 0.9790 - val_loss: 0.7300 - val_accuracy: 0.9036\n",
      "Epoch 15/15\n",
      "62/62 [==============================] - 192s 3s/step - loss: 0.0430 - accuracy: 0.9831 - val_loss: 0.6824 - val_accuracy: 0.9239\n"
     ]
    }
   ],
   "source": [
    "# Train the model with early stopping\n",
    "early_stopping = tf.keras.callbacks.EarlyStopping(monitor='val_loss', patience=5, restore_best_weights=True)\n",
    "\n",
    "# Train the new layers initially using train_generator and val_generator\n",
    "history = model.fit(\n",
    "    train_generator,\n",
    "    validation_data=val_generator,\n",
    "    epochs=15,\n",
    "    callbacks=[early_stopping],\n",
    "    verbose=1\n",
    ")\n",
    "\n",
    "# Fine-tune the entire model\n",
    "base_model.trainable = True  # Unfreeze the base layers\n",
    "\n",
    "# Recompile with a lower learning rate\n",
    "model.compile(\n",
    "    optimizer=tf.keras.optimizers.Adam(learning_rate=0.0001),\n",
    "    loss='binary_crossentropy',\n",
    "    metrics=['accuracy']\n",
    ")\n",
    "\n",
    "# Train the entire model\n",
    "history_fine = model.fit(\n",
    "    train_generator,\n",
    "    validation_data=val_generator,\n",
    "    epochs=15,\n",
    "    callbacks=[early_stopping],\n",
    "    verbose=1\n",
    ")\n",
    "\n",
    "# Save the trained model\n",
    "model.save('two_categories_model.keras')\n"
   ]
  },
  {
   "cell_type": "markdown",
   "id": "b005a4b7",
   "metadata": {},
   "source": [
    "### Step 4: Real-Time Webcam Prediction"
   ]
  },
  {
   "cell_type": "code",
   "execution_count": 8,
   "id": "c8cb4830",
   "metadata": {},
   "outputs": [
    {
     "name": "stdout",
     "output_type": "stream",
     "text": [
      "Press 'q' to exit the video feed.\n",
      "Failed to capture video frame. Exiting...\n",
      "Resources released, video window closed.\n"
     ]
    },
    {
     "name": "stderr",
     "output_type": "stream",
     "text": [
      "[ WARN:0@4986.657] global /io/opencv/modules/videoio/src/cap_v4l.cpp (902) open VIDEOIO(V4L2:/dev/video0): can't open camera by index\n"
     ]
    }
   ],
   "source": [
    "# Load the saved model\n",
    "model = tf.keras.models.load_model('two_categories_model.keras')\n",
    "\n",
    "# Class labels for predictions\n",
    "class_labels = ['Headtop', 'No headwear']\n",
    "\n",
    "# Open the webcam\n",
    "cap = cv2.VideoCapture(0)  # 0 is the default camera\n",
    "\n",
    "# Define the target size for the images\n",
    "target_size = (224, 224)\n",
    "\n",
    "# Initialize a buffer for smoothing predictions\n",
    "predictions_buffer = collections.deque(maxlen=10)\n",
    "\n",
    "print(\"Press 'q' to exit the video feed.\")\n",
    "\n",
    "try:\n",
    "    while True:\n",
    "        # Capture frame-by-frame\n",
    "        ret, frame = cap.read()\n",
    "        if not ret:\n",
    "            print(\"Failed to capture video frame. Exiting...\")\n",
    "            break\n",
    "\n",
    "        # Preprocess the frame\n",
    "        resized_frame = cv2.resize(frame, target_size)  # Resize to match model input\n",
    "        img_array = np.expand_dims(resized_frame, axis=0) / 255.0  # Normalize and add batch dimension\n",
    "\n",
    "        # Make prediction\n",
    "        predictions = model.predict(img_array, verbose=0)\n",
    "        class_index = np.argmax(predictions[0])\n",
    "        prediction_label = class_labels[class_index]\n",
    "        confidence = predictions[0][class_index] * 100\n",
    "\n",
    "        # Add prediction to the buffer\n",
    "        predictions_buffer.append(class_index)\n",
    "\n",
    "        # Smooth predictions using majority voting\n",
    "        smoothed_prediction = max(set(predictions_buffer), key=predictions_buffer.count)\n",
    "        smoothed_label = class_labels[smoothed_prediction]\n",
    "\n",
    "        # Display the prediction on the frame\n",
    "        cv2.putText(frame, f\"{smoothed_label} ({confidence:.2f}%)\", \n",
    "                    (10, 30), cv2.FONT_HERSHEY_SIMPLEX, 1, (75, 75, 75), 2)\n",
    "\n",
    "        # Show the frame\n",
    "        cv2.imshow('Hat Detection', frame)\n",
    "\n",
    "        # Break the loop if 'q' is pressed\n",
    "        if cv2.waitKey(1) & 0xFF == ord('q'):\n",
    "            break\n",
    "\n",
    "except KeyboardInterrupt:\n",
    "    print(\"\\nProgram interrupted by the user. Exiting...\")\n",
    "\n",
    "finally:\n",
    "    # Release the webcam and close windows\n",
    "    cap.release()\n",
    "    cv2.destroyAllWindows()\n",
    "    print(\"Resources released, video window closed.\")"
   ]
  }
 ],
 "metadata": {
  "kernelspec": {
   "display_name": "Python 3",
   "language": "python",
   "name": "python3"
  },
  "language_info": {
   "codemirror_mode": {
    "name": "ipython",
    "version": 3
   },
   "file_extension": ".py",
   "mimetype": "text/x-python",
   "name": "python",
   "nbconvert_exporter": "python",
   "pygments_lexer": "ipython3",
   "version": "3.10.12"
  }
 },
 "nbformat": 4,
 "nbformat_minor": 5
}
