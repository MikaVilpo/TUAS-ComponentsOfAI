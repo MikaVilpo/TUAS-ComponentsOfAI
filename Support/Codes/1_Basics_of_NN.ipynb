{
  "cells": [
    {
      "cell_type": "code",
      "execution_count": null,
      "metadata": {
        "colab": {
          "base_uri": "https://localhost:8080/"
        },
        "id": "BUpWm4ljYVnh",
        "outputId": "43dba971-116a-45a3-8759-af9e1d55e9af"
      },
      "outputs": [
        {
          "ename": "",
          "evalue": "",
          "output_type": "error",
          "traceback": [
            "\u001b[1;31mFailed to start the Kernel. \n",
            "\u001b[1;31mConnection is disposed. \n",
            "\u001b[1;31mView Jupyter <a href='command:jupyter.viewOutput'>log</a> for further details."
          ]
        }
      ],
      "source": [
        "\"\"\"\n",
        "This script demonstrates a simple neural network using TensorFlow and Keras to perform a linear regression.\n",
        "The script performs the following steps:\n",
        "1. Imports necessary libraries: TensorFlow, NumPy, and Keras.\n",
        "2. Defines a Sequential model with a single Dense layer.\n",
        "3. Compiles the model with stochastic gradient descent (SGD) optimizer and mean squared error loss function.\n",
        "4. Creates training data (xs and ys) representing a linear relationship.\n",
        "5. Trains the model on the training data for 500 epochs.\n",
        "6. Uses the trained model to predict the output for a new input value (8.0).\n",
        "Functions:\n",
        "- model.compile: Configures the model for training.\n",
        "- model.fit: Trains the model for a fixed number of epochs on the training data.\n",
        "- model.predict: Generates output predictions for the input samples.\n",
        "Variables:\n",
        "- xs: Input data, a NumPy array of float values.\n",
        "- ys: Output data, a NumPy array of float values corresponding to the input data.\n",
        "\"\"\"\n",
        "\n",
        "import tensorflow as tf\n",
        "import numpy as np\n",
        "from tensorflow import keras\n",
        "\n",
        "\n",
        "model=tf.keras.Sequential([keras.layers.Dense(units=1, input_shape=[1])])\n",
        "\n",
        "model.compile(optimizer='sgd', loss='mean_squared_error')\n",
        "\n",
        "xs = np.array([-1.0,  0.0, 1.0, 2.0, 3.0, 4.0], dtype=float)\n",
        "ys = np.array([-3.0, -1.0, 1.0, 3.0, 5.0, 7.0], dtype=float)\n",
        "\n",
        "model.fit(xs, ys, epochs=500)\n",
        "\n",
        "print(model.predict([8.0]))\n"
      ]
    }
  ],
  "metadata": {
    "colab": {
      "provenance": []
    },
    "kernelspec": {
      "display_name": "base",
      "language": "python",
      "name": "python3"
    },
    "language_info": {
      "name": "python",
      "version": "3.12.4"
    }
  },
  "nbformat": 4,
  "nbformat_minor": 0
}
